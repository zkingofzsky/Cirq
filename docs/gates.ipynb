{
  "nbformat": 4,
  "nbformat_minor": 0,
  "metadata": {
    "colab": {
      "name": "gates.ipynb",
      "provenance": [],
      "collapsed_sections": [
        "Sh9QBnKbFf_B"
      ]
    },
    "kernelspec": {
      "name": "python3",
      "display_name": "Python 3"
    }
  },
  "cells": [
    {
      "cell_type": "markdown",
      "metadata": {
        "id": "y8P1T6duC-yo",
        "colab_type": "text"
      },
      "source": [
        "# Gates\n",
        "\n",
        "A `Gate` is an effect that can be applied to a collection of\n",
        "qubits (objects with a ``Qid``).  `Gates` can be applied\n",
        "to qubits by calling their ``on`` method, or, alternatively\n",
        "calling the gate on the qubits.  The object created by such calls\n",
        "is an ``Operation``.  Alternatively, a `Gate` can be thought of\n",
        "as a [factory](https://en.wikipedia.org/wiki/Factory_method_pattern) \n",
        "that, given input qubits, generates an associated\n",
        "`GateOperation` object."
      ]
    },
    {
      "cell_type": "markdown",
      "metadata": {
        "id": "-Gbg8dEJDH4D",
        "colab_type": "text"
      },
      "source": [
        "## Gates versus Operations\n",
        "\n",
        "![Circuits and Moments](https://cirq.readthedocs.io/en/latest/_static/moments.png)\n",
        "\n",
        "The above example shows the first half of a quantum teleportation circuit,\n",
        "found in many quantum computation textbooks.  This example uses three different\n",
        "gates: a Hadamard (H), controlled-Not (CNOT), and measurement.  These are\n",
        "represented in cirq by ```cirq.H```, ```cirq.CNOT```, and ``cirq.measure``,\n",
        "respectively.\n",
        "\n",
        "In this example, a Hadamard is an example of a `Gate` object that can be applied\n",
        "in many different circumstances and to many different qubits.  Note that the\n",
        "above example has two instances of an H gate but applied to different qubits.\n",
        "This is an example of one `Gate` type with two `Operation` instances, one\n",
        "applied to the qubit '|b⟩' and the other applied to qubit '|a⟩'.\n",
        "\n",
        "Gates can generally be applied to any type of qubit (``NamedQubit``,\n",
        "``LineQubit``, ``GridQubit``, etc) to create an Operation.\n",
        "However, depending on the application, you may prefer a specific type\n",
        "of qubit.  For instance, [Google devices](google/devices.md) generally use\n",
        "``GridQubits``.  Other [devices](devices.md) may have connectivity constraints\n",
        "that further restrict the set of qubits that can be used, especially in multi-\n",
        "qubit operations. \n",
        "\n",
        "The following example shows how to construct each of these gates and operations.\n"
      ]
    },
    {
      "cell_type": "code",
      "metadata": {
        "id": "psYGZcjUEF5V",
        "colab_type": "code",
        "colab": {
          "base_uri": "https://localhost:8080/",
          "height": 102
        },
        "outputId": "77215e0d-3c33-42cf-d94b-7e15eecf4b07"
      },
      "source": [
        "import cirq\n",
        "\n",
        "# This examples uses named qubits to remain abstract.\n",
        "# However, we can also use LineQubits or GridQubits to specify a geometry\n",
        "a = cirq.NamedQubit('a')\n",
        "b = cirq.NamedQubit('b')\n",
        "c = cirq.NamedQubit('c')\n",
        "\n",
        "# Example Operations, that correspond to the moments above\n",
        "print(cirq.H(b))\n",
        "print(cirq.CNOT(b, c))\n",
        "print(cirq.CNOT(a, b))\n",
        "print(cirq.H(a))\n",
        "print(cirq.measure(a,b))\n",
        "# prints\n",
        "# H(b)\n",
        "# CNOT(b, c)\n",
        "# CNOT(a, b)\n",
        "# H(a)\n",
        "# cirq.MeasurementGate(2, 'a,b', ())(a, b)"
      ],
      "execution_count": 2,
      "outputs": [
        {
          "output_type": "stream",
          "text": [
            "H(b)\n",
            "CNOT(b, c)\n",
            "CNOT(a, b)\n",
            "H(a)\n",
            "cirq.MeasurementGate(2, 'a,b', ())(a, b)\n"
          ],
          "name": "stdout"
        }
      ]
    },
    {
      "cell_type": "markdown",
      "metadata": {
        "id": "SrBowKP2EQVC",
        "colab_type": "text"
      },
      "source": [
        "This would create the operations needed to comprise the circuit from the above\n",
        "diagram.  The next step would be composing these operations into moments and\n",
        "circuits.  For more on those types, see the documentation on\n",
        "[Circuits](circuits.ipynb)."
      ]
    },
    {
      "cell_type": "markdown",
      "metadata": {
        "id": "FGS-owSsESxX",
        "colab_type": "text"
      },
      "source": [
        "## Other gate features\n",
        "\n",
        "Most ``Gate``s operate on a specific number of qubits, which can be accessed\n",
        "by the ``num_qubits()`` function.  One notable exception is the\n",
        "``MeasurementGate`` which can be applied to a variable number of qubits.\n",
        "\n",
        "Most gates also have a unitary matrix representation, which can be accessed\n",
        "by ``cirq.unitary(gate)``.  \n",
        "\n",
        "Not all `Gate`s correspond to unitary evolution. They may represent a\n",
        "probabilistic mixture of unitaries, or a general quantum channel. The component\n",
        "unitaries and associated probabilities of a mixture can be accessed by\n",
        "`cirq.mixture(gate)`. The Kraus operator representation of a channel can be\n",
        "accessed by `cirq.channel(gate)`. Non-unitary gates are often used in the\n",
        "simulation of noise. See [noise documentation](noise.ipynb) for more details.\n",
        "\n",
        "Many arithmetic operators will work in the expected way when applied to\n",
        "gates.  For instance, ``cirq.X**0.5`` represents a square root of X gate.\n",
        "These can also be applied to Operators for a more compact representation, such\n",
        "as ``cirq.X(q1)**0.5`` will be a square root of X gate applied to the q1\n",
        "qubit.  This functionality depends on the \"magic methods\" of the gate\n",
        "being defined (see below for details).\n",
        "\n",
        "Gates can be converted to a controlled version by using `Gate.controlled()`.\n",
        "In general, this returns an instance of a `ControlledGate`.  However, for\n",
        "certain special cases where the controlled version of the gate is also a\n",
        "known gate, this returns the instance of that gate.\n",
        "For instance, `cirq.X.controlled()` returns a `cirq.CNOT` gate.\n",
        "Operations have similar functionality `Operation.controlled_by()`, such as\n",
        "`cirq.X(q0).controlled_by(q1)`."
      ]
    },
    {
      "cell_type": "markdown",
      "metadata": {
        "id": "SvKdNtObE1uG",
        "colab_type": "text"
      },
      "source": [
        "## Common gates\n",
        "\n",
        "Cirq supports a number of gates natively, with the opportunity to extend these\n",
        "gates for more advanced use cases."
      ]
    },
    {
      "cell_type": "markdown",
      "metadata": {
        "id": "Qrm9v06bFIpq",
        "colab_type": "text"
      },
      "source": [
        "### Measurement gate\n",
        "\n",
        "**cirq.MeasurementGate** This is a measurement in the computational basis.\n",
        "This gate can be applied to a variable number of qubits.  The function\n",
        "`cirq.measure(q0, q1, ...)` can also be used as a short-hand to create a\n",
        "`MeasurementGate` ."
      ]
    },
    {
      "cell_type": "markdown",
      "metadata": {
        "id": "hN4FVlBvFJyo",
        "colab_type": "text"
      },
      "source": [
        "### Single qubit gates\n",
        "\n",
        "Most single-qubit gates can be thought of as rotation around an axis in the\n",
        "[Bloch Sphere](https://en.wikipedia.org/wiki/Bloch_sphere) representation and\n",
        "are usually referred to by their axis of rotation.  Some operators use the notation of a 'half-turn' which is defined as a 180 degree (pi radians) rotation around the axis.\n",
        "\n",
        "**cirq.X / cirq.Y / cirq.Z** The [Pauli gates](https://en.wikipedia.org/wiki/Quantum_logic_gate#Pauli-X_gate) X, Y, and Z which rotate the state around the  associated axis by one half-turn.\n",
        "\n",
        "**cirq.rx(rads)** A rotation about the Pauli 'X' axis in terms of radians.  This is equivalent to `exp(-i X rads / 2) = cos(rads/2) I - i sin(rads/2) X`\n",
        "\n",
        "**cirq.ry(rads)** A rotation about the Pauli 'Y' axis in terms of radians.  This is equivalent to `exp(-i Y rads / 2) = cos(rads/2) I - i sin(rads/2) Y`\n",
        "\n",
        "**cirq.rz(rads)** A rotation about the Pauli 'Z' axis in terms of radians.  This is equivalent to `exp(-i Z rads / 2) = cos(rads/2) I - i sin(rads/2) Z`\n",
        "\n",
        "**cirq.XPowGate(exponent=t)** Rotations about the Pauli ``X`` axis, equivalent to ``cirq.X**t``.  See [XPowGate](https://cirq.readthedocs.io/en/latest/generated/cirq.XPowGate.html) for its unitary matrix.  Note that this has a global phase of e^{i·π·t/2} versus the traditionally defined rotation matrix, which can be modified by the optional parameter `global_shift`.\n",
        "\n",
        "**cirq.YPowGate(exponent=t)** Rotations about the Pauli ``Y`` axis, equivalent to ``cirq.Y**t``.  See [YPowGate](https://cirq.readthedocs.io/en/latest/generated/cirq.YPowGate.html) for its unitary matrix.  Note that this has a global phase of e^{i·π·t/2} versus the traditionally defined rotation matrix, which can be modified by the optional parameter `global_shift`.\n",
        "\n",
        "**cirq.ZPowGate(exponent=t)** Rotations about the Pauli ``Z`` axis, equivalent to ``cirq.Z**t``.  See [ZPowGate](https://cirq.readthedocs.io/en/latest/generated/cirq.ZPowGate.html) for its unitary matrix.  Note that this has a global phase of e^{i·π·t/2} versus the traditionally defined rotation matrix, which can be modified by the optional parameter `global_shift`.\n",
        "\n",
        "**cirq.PhasedXPowGate**\n",
        "This gate is a rotation about an axis in the XY plane of the Bloch sphere.\n",
        "The ``PhasedXPowGate`` takes two parameters, ``exponent`` and ``phase_exponent``.\n",
        "The gate is equivalent to the circuit `───Z^-p───X^t───Z^p───` where `p` is the\n",
        "`phase_exponent` and `t` is the `exponent`.\n",
        "\n",
        "**cirq.H / cirq.HPowGate** The Hadamard gate is a rotation around the X+Z axis.\n",
        "`cirq.HPowGate(exponent=t)` is a variable rotation of t turns around this\n",
        "axis. `cirq.H` is a π rotation and is equivalent to\n",
        "`cirq.HPowGate(exponent=1)`\n",
        "\n",
        "**S** The square root of Z gate, equivalent to `cirq.Z**0.5`\n",
        "\n",
        "**T** The fourth root of Z gate, equivalent to `cirq.Z**0.25`.\n"
      ]
    },
    {
      "cell_type": "markdown",
      "metadata": {
        "id": "JERikgqQFNRN",
        "colab_type": "text"
      },
      "source": [
        "### Two qubit gates\n",
        "\n",
        "**cirq.CZ / cirq.CZPowGate** The controlled-Z gate.  A two qubit gate that\n",
        "phases the |11⟩ state.  `cirq.CZPowGate(exponent=y)` is equivalent to\n",
        "`cirq.CZ**t` and has a matrix representation of ``exp(i pi |11⟩⟨11| t)``.\n",
        "\n",
        "**cirq.CNOT / cirq.CNotPowGate** The controlled-X gate.  This gate swaps the\n",
        "|11⟩ and |10⟩ states.  `cirq.CNotPowGate(exponent=t)` is equivalent\n",
        "to `cirq.CNOT**t` .\n",
        "\n",
        "**cirq.SWAP / cirq.SwapPowGate** The swap gate swaps the |01⟩ and |10⟩ states.\n",
        "`cirq.SWAP**t` is the same as `cirq.SwapPowGate(exponent = t)`\n",
        "\n",
        "**cirq.ISWAP / cirq.ISwapPowGate**  The iSwap gate swaps the |01⟩ and |10⟩\n",
        "states and adds a relative phase of i.  `cirq.ISWAP**t` is the same as\n",
        "`cirq.ISwapPowGate(exponent = t)`\n",
        "\n",
        "**Parity gates**: The gates cirq.XX, cirq.YY, and cirq.ZZ are equivalent to\n",
        "performing the equivalent one-qubit Pauli gates on both qubits.  The gates\n",
        "cirq.XXPowGate, cirq.YYPowGate, and cirq.ZZPowGate are the powers of\n",
        "these gates.  \n"
      ]
    },
    {
      "cell_type": "markdown",
      "metadata": {
        "id": "0orm9plNFR_P",
        "colab_type": "text"
      },
      "source": [
        "### Other Gates\n",
        "\n",
        "**cirq.MatrixGate**: A gate defined by its unitary matrix in the form of a\n",
        "numpy ndarray.\n",
        "\n",
        "**cirq.WaitGate**:  This gate does nothing for a specified `cirq.Duration`\n",
        "amount of time.  This is useful for conducting T1 and T2 decay experiments. \n",
        "\n",
        "**cirq.CCNOT, cirq.CCX, cirq.TOFFOLI, cirq.CCXPowGate**: Three qubit gates\n",
        "representing the controlled-controlled-X gates.\n",
        "\n",
        "**cirq.CCZ, cirq.CCZPowGate**: Three qubit gates representing a\n",
        "controlled-controlled-Z gate.\n",
        "\n",
        "**CSWAP, CSwapGate, FREDKIN**: Three qubit gates representing a controlled-SWAP\n",
        "gate."
      ]
    },
    {
      "cell_type": "markdown",
      "metadata": {
        "id": "QCMQA9PYFWtt",
        "colab_type": "text"
      },
      "source": [
        "## Advanced: Creating your own gates\n",
        "\n",
        "If the above gates are not sufficient for your use case, it is fairly simple\n",
        "to create your own gate.   In order to do so, you can define your class and\n",
        "inherit the `cirq.Gate` class and define the functionality in your class.\n",
        "\n",
        "Much of cirq relies on \"magic methods\", which are methods prefixed with one or\n",
        "two underscores and used by cirq's protocols or built-in python methods.\n",
        "For instance,  python translates `cirq.Z**0.25` into\n",
        "`cirq.Z.__pow__(0.25)`.  Other uses are specific to cirq and are found in the\n",
        "protocols subdirectory.  They are defined below.\n",
        "\n",
        "At minimum, you will need to define either the ``_num_qubits_`` or\n",
        "``_qid_shape_`` magic method to define the number of qubits (or qudits) used\n",
        "in the gate.  For convenience one can use the ``SingleQubitGate``,\n",
        "``TwoQubitGate``, and ``ThreeQubitGate`` classes for these common gate sizes."
      ]
    },
    {
      "cell_type": "markdown",
      "metadata": {
        "id": "8xo3ZJksFZIV",
        "colab_type": "text"
      },
      "source": [
        "### Magic Methods"
      ]
    },
    {
      "cell_type": "markdown",
      "metadata": {
        "id": "Sh9QBnKbFf_B",
        "colab_type": "text"
      },
      "source": [
        "\n",
        "#### Standard python magic methods\n",
        "\n",
        "There are many standard magic methods in python.  Here are a few of the most\n",
        "important ones used in cirq:\n",
        "  * `__str__` for user-friendly string output and  `__repr__` is the python-friendly string output, meaning that `eval(repr(y))==y` should always be true.\n",
        "  * `__eq__` and `__hash__` which define whether objects are equal or not.  You\n",
        "  can also use `cirq.value.value_equality` for objects that have a small list\n",
        "  of sub-values that can be compared for equality.\n",
        "  * Arithmetic functions such as `__pow__`, `__mul__`, `__add__` define the\n",
        "  action of `**`, `*`, and `+` respectively.\n",
        "   \n",
        "#### `cirq.num_qubits` and `def _num_qubits_`\n",
        "\n",
        "A `Gate` must implement the `_num_qubits_` (or `_qid_shape_`) method.\n",
        "This method returns an integer and is used by `cirq.num_qubits` to determine\n",
        "how many qubits this gate operates on.\n",
        "\n",
        "#### `cirq.qid_shape` and `def _qid_shape_`\n",
        "\n",
        "A qudit gate or operation must implement the `_qid_shape_` method that returns a\n",
        "tuple of integers.  This method is used to determine how many qudits the gate or\n",
        "operation operates on and what dimension each qudit must be.  If only the\n",
        "`_num_qubits_` method is implemented, the object is assumed to operate only on\n",
        "qubits. Callers can query the qid shape of the object by calling\n",
        "`cirq.qid_shape` on it. See [qudit documentation](qudits.ipynb) for more\n",
        "information.\n",
        "\n",
        "#### `cirq.unitary` and `def _unitary_`\n",
        "\n",
        "When an object can be described by a unitary matrix, it can expose that unitary\n",
        "matrix by implementing a `_unitary_(self) -> np.ndarray` method.\n",
        "Callers can query whether or not an object has a unitary matrix by calling\n",
        "`cirq.unitary` on it.\n",
        "The `_unitary_` method may also return `NotImplemented`, in which case\n",
        "`cirq.unitary` behaves as if the method is not implemented.\n",
        "\n",
        "#### `cirq.decompose` and `def _decompose_`\n",
        "\n",
        "Operations and gates can be defined in terms of other operations by implementing\n",
        "a `_decompose_` method that returns those other operations. Operations implement\n",
        "`_decompose_(self)` whereas gates implement `_decompose_(self, qubits)`\n",
        "(since gates don't know their qubits ahead of time).\n",
        "\n",
        "The main requirements on the output of `_decompose_` methods are:\n",
        "\n",
        "1. DO NOT CREATE CYCLES. The `cirq.decompose` method will iterative decompose until it finds values satisfying a `keep` predicate. Cycles cause it to enter an infinite loop.\n",
        "2. Head towards operations defined by Cirq, because these operations have good decomposition methods that terminate in single-qubit and two qubit gates.\n",
        "These gates can be understood by the simulator, optimizers, and other code.\n",
        "3. All that matters is functional equivalence.\n",
        "Don't worry about staying within or reaching a particular gate set; it's too hard to predict what the caller will want. Gate-set-aware decomposition is useful, but *this is not the protocol that does that*.\n",
        "Gate-set-aware decomposition may be added in the future, but doesn't exist within Cirq at the moment.\n",
        "\n",
        "For example, `cirq.CCZ` decomposes into a series of `cirq.CNOT` and `cirq.T` operations.\n",
        "This allows code that doesn't understand three-qubit operation to work with `cirq.CCZ`; by decomposing it into operations they do understand.\n",
        "As another example, `cirq.TOFFOLI` decomposes into a `cirq.H` followed by a `cirq.CCZ` followed by a `cirq.H`.\n",
        "Although the output contains a three qubit operation (the CCZ), that operation can be decomposed into two qubit and one qubit operations.\n",
        "So code that doesn't understand three qubit operations can deal with Toffolis by decomposing them, and then decomposing the CCZs that result from the initial decomposition.\n",
        "\n",
        "In general, decomposition-aware code consuming operations is expected to recursively decompose unknown operations until the code either hits operations it understands or hits a dead end where no more decomposition is possible.\n",
        "The `cirq.decompose` method implements logic for performing exactly this kind of recursive decomposition.\n",
        "Callers specify a `keep` predicate, and optionally specify intercepting and fallback decomposers, and then `cirq.decompose` will repeatedly decompose whatever operations it was given until the operations satisfy the given `keep`.\n",
        "If `cirq.decompose` hits a dead end, it raises an error.\n",
        "\n",
        "Cirq doesn't make any guarantees about the \"target gate set\" decomposition is heading towards.\n",
        "`cirq.decompose` is not a method\n",
        "Decompositions within Cirq happen to converge towards X, Y, Z, CZ, PhasedX, specified-matrix gates, and others.\n",
        "But this set will vary from release to release, and so it is important for consumers of decompositions to look for generic properties of gates,\n",
        "such as \"two qubit gate with a unitary matrix\", instead of specific gate types such as CZ gates.\n",
        "\n",
        "#### `cirq.inverse` and `__pow__`\n",
        "\n",
        "Gates and operations are considered to be *invertable* when they implement a `__pow__` method that returns a result besides `NotImplemented` for an exponent of -1.\n",
        "This inverse can be accessed either directly as `value**-1`, or via the utility method `cirq.inverse(value)`.\n",
        "If you are sure that `value` has an inverse, saying `value**-1` is more convenient than saying `cirq.inverse(value)`.\n",
        "`cirq.inverse` is for cases where you aren't sure if `value` is invertable, or where `value` might be a *sequence* of invertible operations.\n",
        "\n",
        "`cirq.inverse` has a `default` parameter used as a fallback when `value` isn't invertable.\n",
        "For example, `cirq.inverse(value, default=None)` returns the inverse of `value`, or else returns `None` if `value` isn't invertable.\n",
        "(If no `default` is specified and `value` isn't invertible, a `TypeError` is raised.)\n",
        "\n",
        "When you give `cirq.inverse` a list, or any other kind of iterable thing, it will return a sequence of operations that (if run in order) undoes the operations of the original sequence (if run in order).\n",
        "Basically, the items of the list are individually inverted and returned in reverse order.\n",
        "For example, the expression `cirq.inverse([cirq.S(b), cirq.CNOT(a, b)])` will return the tuple `(cirq.CNOT(a, b), cirq.S(b)**-1)`.\n",
        "\n",
        "Gates and operations can also return values beside `NotImplemented` from their `__pow__` method for exponents besides `-1`.\n",
        "This pattern is used often by Cirq.\n",
        "For example, the square root of X gate can be created by raising `cirq.X` to 0.5:\n"
      ]
    },
    {
      "cell_type": "code",
      "metadata": {
        "id": "p2hMsga1FmJP",
        "colab_type": "code",
        "colab": {
          "base_uri": "https://localhost:8080/",
          "height": 85
        },
        "outputId": "23419db0-7a93-4eb4-f59b-0fd4830d2947"
      },
      "source": [
        "import cirq\n",
        "print(cirq.unitary(cirq.X))\n",
        "# prints\n",
        "# [[0.+0.j 1.+0.j]\n",
        "#  [1.+0.j 0.+0.j]]\n",
        "\n",
        "sqrt_x = cirq.X**0.5\n",
        "print(cirq.unitary(sqrt_x))\n",
        "# prints\n",
        "# [[0.5+0.5j 0.5-0.5j]\n",
        "#  [0.5-0.5j 0.5+0.5j]]"
      ],
      "execution_count": 3,
      "outputs": [
        {
          "output_type": "stream",
          "text": [
            "[[0.+0.j 1.+0.j]\n",
            " [1.+0.j 0.+0.j]]\n",
            "[[0.5+0.5j 0.5-0.5j]\n",
            " [0.5-0.5j 0.5+0.5j]]\n"
          ],
          "name": "stdout"
        }
      ]
    },
    {
      "cell_type": "markdown",
      "metadata": {
        "id": "Mt8SBuHSFtzX",
        "colab_type": "text"
      },
      "source": [
        "\n",
        "\n",
        "The Pauli gates included in Cirq use the convention ``Z**0.5 ≡ S ≡ np.diag(1, i)``, ``Z**-0.5 ≡ S**-1``, ``X**0.5 ≡ H·S·H``, and the square root of ``Y`` is inferred via the right hand rule.\n"
      ]
    },
    {
      "cell_type": "markdown",
      "metadata": {
        "id": "2CgW6Fs6FxVC",
        "colab_type": "text"
      },
      "source": [
        "\n",
        "#### `_circuit_diagram_info_(self, args)` and `cirq.circuit_diagram_info(val, [args], [default])`\n",
        "\n",
        "Circuit diagrams are useful for visualizing the structure of a `Circuit`.\n",
        "Gates can specify compact representations to use in diagrams by implementing a `_circuit_diagram_info_` method.\n",
        "For example, this is why SWAP gates are shown as linked '×' characters in diagrams.\n",
        "\n",
        "The `_circuit_diagram_info_` method takes an `args` parameter of type `cirq.CircuitDiagramInfoArgs` and returns either\n",
        "a string (typically the gate's name), a sequence of strings (a label to use on each qubit targeted by the gate), or an\n",
        "instance of `cirq.CircuitDiagramInfo` (which can specify more advanced properties such as exponents and will expand\n",
        "in the future).\n",
        "\n",
        "You can query the circuit diagram info of a value by passing it into `cirq.circuit_diagram_info`."
      ]
    }
  ]
}
