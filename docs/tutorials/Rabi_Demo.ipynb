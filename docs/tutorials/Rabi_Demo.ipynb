{
  "nbformat": 4,
  "nbformat_minor": 0,
  "metadata": {
    "colab": {
      "name": "Rabi_Demo.ipynb",
      "provenance": [],
      "collapsed_sections": [
        "V6uE-yFxoT-3"
      ]
    },
    "kernelspec": {
      "name": "python3",
      "display_name": "Python 3"
    }
  },
  "cells": [
    {
      "cell_type": "code",
      "metadata": {
        "id": "B48YJv5c6SNC",
        "colab_type": "code",
        "colab": {}
      },
      "source": [
        "%%capture\n",
        "!pip install --quiet --upgrade pip\n",
        "!pip install --quiet cirq==0.7"
      ],
      "execution_count": 0,
      "outputs": []
    },
    {
      "cell_type": "markdown",
      "metadata": {
        "id": "kL2C06ln6h48",
        "colab_type": "text"
      },
      "source": [
        "# Rabi Oscillation Experiment\n",
        "\n",
        "In this experiment, you are going to use Cirq to check that rotating a qubit by an increasing angle, and then measuring the qubit, produces Rabi oscillations. This requires you to do the following things:\n",
        "\n",
        "1. Prepare the $|0\\rangle$ state.\n",
        "2. Rotate by an angle $\\theta$ around the $X$ axis.\n",
        "3. Measure to see if the result is a 1 or a 0.\n",
        "4. Repeat steps 1-3 $k$ times.\n",
        "5. Report the fraction of $\\frac{\\text{Number of 1's}}{k}$\n",
        "found in step 3."
      ]
    },
    {
      "cell_type": "markdown",
      "metadata": {
        "id": "ACqqV6tJ7xXp",
        "colab_type": "text"
      },
      "source": [
        "## 1. Getting to know Cirq\n",
        "\n",
        "Cirq emphasizes the details of implementing quantum algorithms on near term devices.\n",
        "For example, when you work on a qubit in Cirq you don't operate on an unspecified qubit that will later be mapped onto a device by a hidden step.\n",
        "Instead, you are always operating on specific qubits at specific locations that you specify.\n",
        "\n",
        "Suppose you are working with a 54 qubit Sycamore chip.\n",
        "This device is included in Cirq by default.\n",
        "It is called `cirq.google.Sycamore`, and you can see its layout by printing it."
      ]
    },
    {
      "cell_type": "code",
      "metadata": {
        "id": "rKoMKEw46XY7",
        "colab_type": "code",
        "colab": {
          "base_uri": "https://localhost:8080/",
          "height": 493
        },
        "outputId": "c61f64f0-4f4e-4dce-9b15-d2801e1edcdc"
      },
      "source": [
        "import cirq\n",
        "working_device = cirq.google.Sycamore\n",
        "print(working_device)"
      ],
      "execution_count": 2,
      "outputs": [
        {
          "output_type": "stream",
          "text": [
            "                                             (0, 5)───(0, 6)\n",
            "                                             │        │\n",
            "                                             │        │\n",
            "                                    (1, 4)───(1, 5)───(1, 6)───(1, 7)\n",
            "                                    │        │        │        │\n",
            "                                    │        │        │        │\n",
            "                           (2, 3)───(2, 4)───(2, 5)───(2, 6)───(2, 7)───(2, 8)\n",
            "                           │        │        │        │        │        │\n",
            "                           │        │        │        │        │        │\n",
            "                  (3, 2)───(3, 3)───(3, 4)───(3, 5)───(3, 6)───(3, 7)───(3, 8)───(3, 9)\n",
            "                  │        │        │        │        │        │        │        │\n",
            "                  │        │        │        │        │        │        │        │\n",
            "         (4, 1)───(4, 2)───(4, 3)───(4, 4)───(4, 5)───(4, 6)───(4, 7)───(4, 8)───(4, 9)\n",
            "         │        │        │        │        │        │        │        │\n",
            "         │        │        │        │        │        │        │        │\n",
            "(5, 0)───(5, 1)───(5, 2)───(5, 3)───(5, 4)───(5, 5)───(5, 6)───(5, 7)───(5, 8)\n",
            "         │        │        │        │        │        │        │\n",
            "         │        │        │        │        │        │        │\n",
            "         (6, 1)───(6, 2)───(6, 3)───(6, 4)───(6, 5)───(6, 6)───(6, 7)\n",
            "                  │        │        │        │        │\n",
            "                  │        │        │        │        │\n",
            "                  (7, 2)───(7, 3)───(7, 4)───(7, 5)───(7, 6)\n",
            "                           │        │        │\n",
            "                           │        │        │\n",
            "                           (8, 3)───(8, 4)───(8, 5)\n",
            "                                    │\n",
            "                                    │\n",
            "                                    (9, 4)\n"
          ],
          "name": "stdout"
        }
      ]
    },
    {
      "cell_type": "markdown",
      "metadata": {
        "id": "FJJEbuk-98Gj",
        "colab_type": "text"
      },
      "source": [
        "For this experiment you only need one qubit and you can just pick whichever one you like."
      ]
    },
    {
      "cell_type": "code",
      "metadata": {
        "id": "XoXekxuQ8bI0",
        "colab_type": "code",
        "colab": {}
      },
      "source": [
        "my_qubit = cirq.GridQubit(5, 6)"
      ],
      "execution_count": 0,
      "outputs": []
    },
    {
      "cell_type": "markdown",
      "metadata": {
        "id": "8Tucm7os-uET",
        "colab_type": "text"
      },
      "source": [
        "Once you've chosen your qubit you can build circuits that use it."
      ]
    },
    {
      "cell_type": "code",
      "metadata": {
        "id": "niH8sty--Hu0",
        "colab_type": "code",
        "colab": {
          "base_uri": "https://localhost:8080/",
          "height": 88
        },
        "outputId": "d85efee8-cf39-450d-985a-557e33651d59"
      },
      "source": [
        "from cirq.contrib.svg import SVGCircuit\n",
        "\n",
        "# Create a circuit with X, Ry(pi/2) and H.\n",
        "my_circuit = cirq.Circuit(\n",
        "    # Rotate the qubit pi/2 radians around the X axis.\n",
        "    cirq.rx(3.141 / 2).on(my_qubit),\n",
        "    # Measure the qubit.\n",
        "    cirq.measure(my_qubit, key='out')\n",
        ")\n",
        "SVGCircuit(my_circuit)"
      ],
      "execution_count": 4,
      "outputs": [
        {
          "output_type": "stream",
          "text": [
            "findfont: Font family ['Arial'] not found. Falling back to DejaVu Sans.\n"
          ],
          "name": "stderr"
        },
        {
          "output_type": "execute_result",
          "data": {
            "text/plain": [
              "<cirq.contrib.svg.svg.SVGCircuit at 0x7f03840118d0>"
            ],
            "image/svg+xml": "<svg xmlns=\"http://www.w3.org/2000/svg\" width=\"277.62234375\" height=\"50.0\"><line x1=\"34.7588671875\" x2=\"247.62234375\" y1=\"25.0\" y2=\"25.0\" stroke=\"#1967d2\" stroke-width=\"1\" /><rect x=\"10.0\" y=\"5.0\" width=\"49.517734375\" height=\"40\" stroke=\"black\" fill=\"white\" stroke-width=\"0\" /><text x=\"34.7588671875\" y=\"25.0\" dominant-baseline=\"middle\" text-anchor=\"middle\" font-size=\"14px\">(5, 6): </text><rect x=\"79.517734375\" y=\"5.0\" width=\"67.05328125\" height=\"40\" stroke=\"black\" fill=\"white\" stroke-width=\"1\" /><text x=\"113.044375\" y=\"25.0\" dominant-baseline=\"middle\" text-anchor=\"middle\" font-size=\"14px\">Rx(0.5π)</text><rect x=\"166.571015625\" y=\"5.0\" width=\"61.051328125\" height=\"40\" stroke=\"black\" fill=\"white\" stroke-width=\"1\" /><text x=\"197.0966796875\" y=\"25.0\" dominant-baseline=\"middle\" text-anchor=\"middle\" font-size=\"14px\">M('out')</text></svg>"
          },
          "metadata": {
            "tags": []
          },
          "execution_count": 4
        }
      ]
    },
    {
      "cell_type": "markdown",
      "metadata": {
        "id": "-zbI-2KUMU66",
        "colab_type": "text"
      },
      "source": [
        "Now you can simulate sampling from your circuit using `cirq.Simulator`."
      ]
    },
    {
      "cell_type": "code",
      "metadata": {
        "id": "IqUn4uv9_IVo",
        "colab_type": "code",
        "colab": {
          "base_uri": "https://localhost:8080/",
          "height": 359
        },
        "outputId": "dcdcbca1-9117-4b63-95cb-85687456bc90"
      },
      "source": [
        "sim = cirq.Simulator()\n",
        "samples = sim.sample(my_circuit, repetitions=10)\n",
        "samples"
      ],
      "execution_count": 5,
      "outputs": [
        {
          "output_type": "execute_result",
          "data": {
            "text/html": [
              "<div>\n",
              "<style scoped>\n",
              "    .dataframe tbody tr th:only-of-type {\n",
              "        vertical-align: middle;\n",
              "    }\n",
              "\n",
              "    .dataframe tbody tr th {\n",
              "        vertical-align: top;\n",
              "    }\n",
              "\n",
              "    .dataframe thead th {\n",
              "        text-align: right;\n",
              "    }\n",
              "</style>\n",
              "<table border=\"1\" class=\"dataframe\">\n",
              "  <thead>\n",
              "    <tr style=\"text-align: right;\">\n",
              "      <th></th>\n",
              "      <th>out</th>\n",
              "    </tr>\n",
              "  </thead>\n",
              "  <tbody>\n",
              "    <tr>\n",
              "      <th>0</th>\n",
              "      <td>1</td>\n",
              "    </tr>\n",
              "    <tr>\n",
              "      <th>1</th>\n",
              "      <td>0</td>\n",
              "    </tr>\n",
              "    <tr>\n",
              "      <th>2</th>\n",
              "      <td>0</td>\n",
              "    </tr>\n",
              "    <tr>\n",
              "      <th>3</th>\n",
              "      <td>1</td>\n",
              "    </tr>\n",
              "    <tr>\n",
              "      <th>4</th>\n",
              "      <td>1</td>\n",
              "    </tr>\n",
              "    <tr>\n",
              "      <th>5</th>\n",
              "      <td>0</td>\n",
              "    </tr>\n",
              "    <tr>\n",
              "      <th>6</th>\n",
              "      <td>1</td>\n",
              "    </tr>\n",
              "    <tr>\n",
              "      <th>7</th>\n",
              "      <td>1</td>\n",
              "    </tr>\n",
              "    <tr>\n",
              "      <th>8</th>\n",
              "      <td>0</td>\n",
              "    </tr>\n",
              "    <tr>\n",
              "      <th>9</th>\n",
              "      <td>1</td>\n",
              "    </tr>\n",
              "  </tbody>\n",
              "</table>\n",
              "</div>"
            ],
            "text/plain": [
              "   out\n",
              "0    1\n",
              "1    0\n",
              "2    0\n",
              "3    1\n",
              "4    1\n",
              "5    0\n",
              "6    1\n",
              "7    1\n",
              "8    0\n",
              "9    1"
            ]
          },
          "metadata": {
            "tags": []
          },
          "execution_count": 5
        }
      ]
    },
    {
      "cell_type": "markdown",
      "metadata": {
        "id": "k-uAT6sHdGib",
        "colab_type": "text"
      },
      "source": [
        "You can also get properties of the circuit, such as the density matrix of the circuit's output or the state vector just before the terminal measurement."
      ]
    },
    {
      "cell_type": "code",
      "metadata": {
        "id": "83OqpReyHyUK",
        "colab_type": "code",
        "colab": {
          "base_uri": "https://localhost:8080/",
          "height": 119
        },
        "outputId": "feea8b8b-e0ac-4860-d5c8-8cac46b087fe"
      },
      "source": [
        "state_vector_before_measurement = sim.simulate(my_circuit[:-1])\n",
        "sampled_state_vector_after_measurement = sim.simulate(my_circuit)\n",
        "\n",
        "print(f'State before measurement:')\n",
        "print(state_vector_before_measurement)\n",
        "print(f'State after measurement:')\n",
        "print(sampled_state_vector_after_measurement)\n"
      ],
      "execution_count": 6,
      "outputs": [
        {
          "output_type": "stream",
          "text": [
            "State before measurement:\n",
            "measurements: (no measurements)\n",
            "output vector: 0.707|0⟩ - 0.707j|1⟩\n",
            "State after measurement:\n",
            "measurements: out=1\n",
            "output vector: -1j|1⟩\n"
          ],
          "name": "stdout"
        }
      ]
    },
    {
      "cell_type": "markdown",
      "metadata": {
        "id": "1raIf8dsWHLJ",
        "colab_type": "text"
      },
      "source": [
        "You can also examine the outputs from a noisy environment.\n",
        "For example, an environment where 10% depolarization is applied to each qubit after each operation in the circuit:"
      ]
    },
    {
      "cell_type": "code",
      "metadata": {
        "id": "P7VW97ugWE_h",
        "colab_type": "code",
        "colab": {
          "base_uri": "https://localhost:8080/",
          "height": 153
        },
        "outputId": "e7ba829e-0e4a-4009-9c26-bff571490aad"
      },
      "source": [
        "noisy_sim = cirq.DensityMatrixSimulator(noise=cirq.depolarize(0.1))\n",
        "noisy_post_measurement_state = noisy_sim.simulate(my_circuit)\n",
        "noisy_pre_measurement_state = noisy_sim.simulate(my_circuit[:-1])\n",
        "\n",
        "print('Noisy state after measurement:' + str(noisy_post_measurement_state))\n",
        "print('Noisy state before measurement:' + str(noisy_pre_measurement_state))"
      ],
      "execution_count": 7,
      "outputs": [
        {
          "output_type": "stream",
          "text": [
            "Noisy state after measurement:measurements: out=0\n",
            "final density matrix:\n",
            "[[0.9333334 +0.j 0.        +0.j]\n",
            " [0.        +0.j 0.06666666+0.j]]\n",
            "Noisy state before measurement:measurements: (no measurements)\n",
            "final density matrix:\n",
            "[[0.50012845+0.j         0.        +0.43333334j]\n",
            " [0.        -0.43333334j 0.49987155+0.j        ]]\n"
          ],
          "name": "stdout"
        }
      ]
    },
    {
      "cell_type": "markdown",
      "metadata": {
        "id": "2h6yoOl4Rmwt",
        "colab_type": "text"
      },
      "source": [
        "## 2. Parameterized Circuits and Sweeps\n",
        "\n",
        "Now that you have some of the basics end to end, you can create a parameterized circuit that rotates by an angle $\\theta$:"
      ]
    },
    {
      "cell_type": "code",
      "metadata": {
        "id": "n6h6yuyGM58s",
        "colab_type": "code",
        "colab": {
          "base_uri": "https://localhost:8080/",
          "height": 71
        },
        "outputId": "37184fed-77eb-4cb3-bc58-ab3088dc8bb3"
      },
      "source": [
        "import sympy\n",
        "theta = sympy.Symbol('theta')\n",
        "\n",
        "parameterized_circuit = cirq.Circuit(\n",
        "    cirq.rx(theta).on(my_qubit),\n",
        "    cirq.measure(my_qubit, key='out')\n",
        ")\n",
        "SVGCircuit(parameterized_circuit)"
      ],
      "execution_count": 8,
      "outputs": [
        {
          "output_type": "execute_result",
          "data": {
            "text/plain": [
              "<cirq.contrib.svg.svg.SVGCircuit at 0x7f03776118d0>"
            ],
            "image/svg+xml": "<svg xmlns=\"http://www.w3.org/2000/svg\" width=\"283.9729296875\" height=\"50.0\"><line x1=\"34.7588671875\" x2=\"253.97292968750003\" y1=\"25.0\" y2=\"25.0\" stroke=\"#1967d2\" stroke-width=\"1\" /><rect x=\"10.0\" y=\"5.0\" width=\"49.517734375\" height=\"40\" stroke=\"black\" fill=\"white\" stroke-width=\"0\" /><text x=\"34.7588671875\" y=\"25.0\" dominant-baseline=\"middle\" text-anchor=\"middle\" font-size=\"14px\">(5, 6): </text><rect x=\"79.517734375\" y=\"5.0\" width=\"73.40386718750001\" height=\"40\" stroke=\"black\" fill=\"white\" stroke-width=\"1\" /><text x=\"116.21966796875\" y=\"25.0\" dominant-baseline=\"middle\" text-anchor=\"middle\" font-size=\"14px\">Rx(theta)</text><rect x=\"172.92160156250003\" y=\"5.0\" width=\"61.051328125\" height=\"40\" stroke=\"black\" fill=\"white\" stroke-width=\"1\" /><text x=\"203.44726562500003\" y=\"25.0\" dominant-baseline=\"middle\" text-anchor=\"middle\" font-size=\"14px\">M('out')</text></svg>"
          },
          "metadata": {
            "tags": []
          },
          "execution_count": 8
        }
      ]
    },
    {
      "cell_type": "markdown",
      "metadata": {
        "id": "rU3BBOp0S4sM",
        "colab_type": "text"
      },
      "source": [
        "In the above block you saw that there is a `sympy.Symbol` that you placed in the circuit. Cirq supports symbolic computation involving circuits. What this means is that when you construct `cirq.Circuit` objects you can put placeholders in many of the classical control parameters of the circuit which you can fill with values later on.\n",
        "\n",
        "Now if you wanted to use `cirq.simulate` or `cirq.sample` with the parameterized circuit you would also need to specify a value for `theta`."
      ]
    },
    {
      "cell_type": "code",
      "metadata": {
        "id": "SMdz-yAZSwrU",
        "colab_type": "code",
        "colab": {
          "base_uri": "https://localhost:8080/",
          "height": 359
        },
        "outputId": "f1ab0192-3ecd-41d2-ea07-da646fad57ca"
      },
      "source": [
        "samples_at_theta_equals_2 = sim.sample(\n",
        "    parameterized_circuit, \n",
        "    params={theta: 2}, \n",
        "    repetitions=10)\n",
        "samples_at_theta_equals_2"
      ],
      "execution_count": 9,
      "outputs": [
        {
          "output_type": "execute_result",
          "data": {
            "text/html": [
              "<div>\n",
              "<style scoped>\n",
              "    .dataframe tbody tr th:only-of-type {\n",
              "        vertical-align: middle;\n",
              "    }\n",
              "\n",
              "    .dataframe tbody tr th {\n",
              "        vertical-align: top;\n",
              "    }\n",
              "\n",
              "    .dataframe thead th {\n",
              "        text-align: right;\n",
              "    }\n",
              "</style>\n",
              "<table border=\"1\" class=\"dataframe\">\n",
              "  <thead>\n",
              "    <tr style=\"text-align: right;\">\n",
              "      <th></th>\n",
              "      <th>theta</th>\n",
              "      <th>out</th>\n",
              "    </tr>\n",
              "  </thead>\n",
              "  <tbody>\n",
              "    <tr>\n",
              "      <th>0</th>\n",
              "      <td>2</td>\n",
              "      <td>1</td>\n",
              "    </tr>\n",
              "    <tr>\n",
              "      <th>1</th>\n",
              "      <td>2</td>\n",
              "      <td>0</td>\n",
              "    </tr>\n",
              "    <tr>\n",
              "      <th>2</th>\n",
              "      <td>2</td>\n",
              "      <td>1</td>\n",
              "    </tr>\n",
              "    <tr>\n",
              "      <th>3</th>\n",
              "      <td>2</td>\n",
              "      <td>1</td>\n",
              "    </tr>\n",
              "    <tr>\n",
              "      <th>4</th>\n",
              "      <td>2</td>\n",
              "      <td>1</td>\n",
              "    </tr>\n",
              "    <tr>\n",
              "      <th>5</th>\n",
              "      <td>2</td>\n",
              "      <td>0</td>\n",
              "    </tr>\n",
              "    <tr>\n",
              "      <th>6</th>\n",
              "      <td>2</td>\n",
              "      <td>1</td>\n",
              "    </tr>\n",
              "    <tr>\n",
              "      <th>7</th>\n",
              "      <td>2</td>\n",
              "      <td>0</td>\n",
              "    </tr>\n",
              "    <tr>\n",
              "      <th>8</th>\n",
              "      <td>2</td>\n",
              "      <td>1</td>\n",
              "    </tr>\n",
              "    <tr>\n",
              "      <th>9</th>\n",
              "      <td>2</td>\n",
              "      <td>0</td>\n",
              "    </tr>\n",
              "  </tbody>\n",
              "</table>\n",
              "</div>"
            ],
            "text/plain": [
              "   theta  out\n",
              "0      2    1\n",
              "1      2    0\n",
              "2      2    1\n",
              "3      2    1\n",
              "4      2    1\n",
              "5      2    0\n",
              "6      2    1\n",
              "7      2    0\n",
              "8      2    1\n",
              "9      2    0"
            ]
          },
          "metadata": {
            "tags": []
          },
          "execution_count": 9
        }
      ]
    },
    {
      "cell_type": "markdown",
      "metadata": {
        "id": "H_H13Hc8g873",
        "colab_type": "text"
      },
      "source": [
        "You can also specify *multiple* values of `theta`, and get samples back for each value."
      ]
    },
    {
      "cell_type": "code",
      "metadata": {
        "id": "0zjZxGY6hIsu",
        "colab_type": "code",
        "colab": {
          "base_uri": "https://localhost:8080/",
          "height": 669
        },
        "outputId": "cf5c3e68-9d14-452a-83ac-aeae6525eb63"
      },
      "source": [
        "samples_at_multiple_theta = sim.sample(\n",
        "    parameterized_circuit, \n",
        "    params=[{theta: 0.5}, {theta: 3.141}], \n",
        "    repetitions=10)\n",
        "samples_at_multiple_theta"
      ],
      "execution_count": 10,
      "outputs": [
        {
          "output_type": "execute_result",
          "data": {
            "text/html": [
              "<div>\n",
              "<style scoped>\n",
              "    .dataframe tbody tr th:only-of-type {\n",
              "        vertical-align: middle;\n",
              "    }\n",
              "\n",
              "    .dataframe tbody tr th {\n",
              "        vertical-align: top;\n",
              "    }\n",
              "\n",
              "    .dataframe thead th {\n",
              "        text-align: right;\n",
              "    }\n",
              "</style>\n",
              "<table border=\"1\" class=\"dataframe\">\n",
              "  <thead>\n",
              "    <tr style=\"text-align: right;\">\n",
              "      <th></th>\n",
              "      <th>theta</th>\n",
              "      <th>out</th>\n",
              "    </tr>\n",
              "  </thead>\n",
              "  <tbody>\n",
              "    <tr>\n",
              "      <th>0</th>\n",
              "      <td>0.500</td>\n",
              "      <td>0</td>\n",
              "    </tr>\n",
              "    <tr>\n",
              "      <th>1</th>\n",
              "      <td>0.500</td>\n",
              "      <td>0</td>\n",
              "    </tr>\n",
              "    <tr>\n",
              "      <th>2</th>\n",
              "      <td>0.500</td>\n",
              "      <td>0</td>\n",
              "    </tr>\n",
              "    <tr>\n",
              "      <th>3</th>\n",
              "      <td>0.500</td>\n",
              "      <td>0</td>\n",
              "    </tr>\n",
              "    <tr>\n",
              "      <th>4</th>\n",
              "      <td>0.500</td>\n",
              "      <td>0</td>\n",
              "    </tr>\n",
              "    <tr>\n",
              "      <th>5</th>\n",
              "      <td>0.500</td>\n",
              "      <td>0</td>\n",
              "    </tr>\n",
              "    <tr>\n",
              "      <th>6</th>\n",
              "      <td>0.500</td>\n",
              "      <td>0</td>\n",
              "    </tr>\n",
              "    <tr>\n",
              "      <th>7</th>\n",
              "      <td>0.500</td>\n",
              "      <td>0</td>\n",
              "    </tr>\n",
              "    <tr>\n",
              "      <th>8</th>\n",
              "      <td>0.500</td>\n",
              "      <td>0</td>\n",
              "    </tr>\n",
              "    <tr>\n",
              "      <th>9</th>\n",
              "      <td>0.500</td>\n",
              "      <td>0</td>\n",
              "    </tr>\n",
              "    <tr>\n",
              "      <th>0</th>\n",
              "      <td>3.141</td>\n",
              "      <td>1</td>\n",
              "    </tr>\n",
              "    <tr>\n",
              "      <th>1</th>\n",
              "      <td>3.141</td>\n",
              "      <td>1</td>\n",
              "    </tr>\n",
              "    <tr>\n",
              "      <th>2</th>\n",
              "      <td>3.141</td>\n",
              "      <td>1</td>\n",
              "    </tr>\n",
              "    <tr>\n",
              "      <th>3</th>\n",
              "      <td>3.141</td>\n",
              "      <td>1</td>\n",
              "    </tr>\n",
              "    <tr>\n",
              "      <th>4</th>\n",
              "      <td>3.141</td>\n",
              "      <td>1</td>\n",
              "    </tr>\n",
              "    <tr>\n",
              "      <th>5</th>\n",
              "      <td>3.141</td>\n",
              "      <td>1</td>\n",
              "    </tr>\n",
              "    <tr>\n",
              "      <th>6</th>\n",
              "      <td>3.141</td>\n",
              "      <td>1</td>\n",
              "    </tr>\n",
              "    <tr>\n",
              "      <th>7</th>\n",
              "      <td>3.141</td>\n",
              "      <td>1</td>\n",
              "    </tr>\n",
              "    <tr>\n",
              "      <th>8</th>\n",
              "      <td>3.141</td>\n",
              "      <td>1</td>\n",
              "    </tr>\n",
              "    <tr>\n",
              "      <th>9</th>\n",
              "      <td>3.141</td>\n",
              "      <td>1</td>\n",
              "    </tr>\n",
              "  </tbody>\n",
              "</table>\n",
              "</div>"
            ],
            "text/plain": [
              "   theta  out\n",
              "0  0.500    0\n",
              "1  0.500    0\n",
              "2  0.500    0\n",
              "3  0.500    0\n",
              "4  0.500    0\n",
              "5  0.500    0\n",
              "6  0.500    0\n",
              "7  0.500    0\n",
              "8  0.500    0\n",
              "9  0.500    0\n",
              "0  3.141    1\n",
              "1  3.141    1\n",
              "2  3.141    1\n",
              "3  3.141    1\n",
              "4  3.141    1\n",
              "5  3.141    1\n",
              "6  3.141    1\n",
              "7  3.141    1\n",
              "8  3.141    1\n",
              "9  3.141    1"
            ]
          },
          "metadata": {
            "tags": []
          },
          "execution_count": 10
        }
      ]
    },
    {
      "cell_type": "markdown",
      "metadata": {
        "id": "juuWvOEphaaE",
        "colab_type": "text"
      },
      "source": [
        "Cirq has shorthand notation you can use to sweep `theta` over a range of values."
      ]
    },
    {
      "cell_type": "code",
      "metadata": {
        "id": "8lCb3049hqXn",
        "colab_type": "code",
        "colab": {
          "base_uri": "https://localhost:8080/",
          "height": 824
        },
        "outputId": "40c40e39-e36b-4021-dbc0-30acdd3c7d1c"
      },
      "source": [
        "samples_at_swept_theta = sim.sample(\n",
        "    parameterized_circuit, \n",
        "    params=cirq.Linspace(theta, start=0, stop=3.14159, length=5), \n",
        "    repetitions=5)\n",
        "samples_at_swept_theta"
      ],
      "execution_count": 11,
      "outputs": [
        {
          "output_type": "execute_result",
          "data": {
            "text/html": [
              "<div>\n",
              "<style scoped>\n",
              "    .dataframe tbody tr th:only-of-type {\n",
              "        vertical-align: middle;\n",
              "    }\n",
              "\n",
              "    .dataframe tbody tr th {\n",
              "        vertical-align: top;\n",
              "    }\n",
              "\n",
              "    .dataframe thead th {\n",
              "        text-align: right;\n",
              "    }\n",
              "</style>\n",
              "<table border=\"1\" class=\"dataframe\">\n",
              "  <thead>\n",
              "    <tr style=\"text-align: right;\">\n",
              "      <th></th>\n",
              "      <th>theta</th>\n",
              "      <th>out</th>\n",
              "    </tr>\n",
              "  </thead>\n",
              "  <tbody>\n",
              "    <tr>\n",
              "      <th>0</th>\n",
              "      <td>0.000000</td>\n",
              "      <td>0</td>\n",
              "    </tr>\n",
              "    <tr>\n",
              "      <th>1</th>\n",
              "      <td>0.000000</td>\n",
              "      <td>0</td>\n",
              "    </tr>\n",
              "    <tr>\n",
              "      <th>2</th>\n",
              "      <td>0.000000</td>\n",
              "      <td>0</td>\n",
              "    </tr>\n",
              "    <tr>\n",
              "      <th>3</th>\n",
              "      <td>0.000000</td>\n",
              "      <td>0</td>\n",
              "    </tr>\n",
              "    <tr>\n",
              "      <th>4</th>\n",
              "      <td>0.000000</td>\n",
              "      <td>0</td>\n",
              "    </tr>\n",
              "    <tr>\n",
              "      <th>0</th>\n",
              "      <td>0.785397</td>\n",
              "      <td>0</td>\n",
              "    </tr>\n",
              "    <tr>\n",
              "      <th>1</th>\n",
              "      <td>0.785397</td>\n",
              "      <td>0</td>\n",
              "    </tr>\n",
              "    <tr>\n",
              "      <th>2</th>\n",
              "      <td>0.785397</td>\n",
              "      <td>0</td>\n",
              "    </tr>\n",
              "    <tr>\n",
              "      <th>3</th>\n",
              "      <td>0.785397</td>\n",
              "      <td>0</td>\n",
              "    </tr>\n",
              "    <tr>\n",
              "      <th>4</th>\n",
              "      <td>0.785397</td>\n",
              "      <td>0</td>\n",
              "    </tr>\n",
              "    <tr>\n",
              "      <th>0</th>\n",
              "      <td>1.570795</td>\n",
              "      <td>1</td>\n",
              "    </tr>\n",
              "    <tr>\n",
              "      <th>1</th>\n",
              "      <td>1.570795</td>\n",
              "      <td>0</td>\n",
              "    </tr>\n",
              "    <tr>\n",
              "      <th>2</th>\n",
              "      <td>1.570795</td>\n",
              "      <td>0</td>\n",
              "    </tr>\n",
              "    <tr>\n",
              "      <th>3</th>\n",
              "      <td>1.570795</td>\n",
              "      <td>1</td>\n",
              "    </tr>\n",
              "    <tr>\n",
              "      <th>4</th>\n",
              "      <td>1.570795</td>\n",
              "      <td>0</td>\n",
              "    </tr>\n",
              "    <tr>\n",
              "      <th>0</th>\n",
              "      <td>2.356192</td>\n",
              "      <td>1</td>\n",
              "    </tr>\n",
              "    <tr>\n",
              "      <th>1</th>\n",
              "      <td>2.356192</td>\n",
              "      <td>1</td>\n",
              "    </tr>\n",
              "    <tr>\n",
              "      <th>2</th>\n",
              "      <td>2.356192</td>\n",
              "      <td>1</td>\n",
              "    </tr>\n",
              "    <tr>\n",
              "      <th>3</th>\n",
              "      <td>2.356192</td>\n",
              "      <td>0</td>\n",
              "    </tr>\n",
              "    <tr>\n",
              "      <th>4</th>\n",
              "      <td>2.356192</td>\n",
              "      <td>0</td>\n",
              "    </tr>\n",
              "    <tr>\n",
              "      <th>0</th>\n",
              "      <td>3.141590</td>\n",
              "      <td>1</td>\n",
              "    </tr>\n",
              "    <tr>\n",
              "      <th>1</th>\n",
              "      <td>3.141590</td>\n",
              "      <td>1</td>\n",
              "    </tr>\n",
              "    <tr>\n",
              "      <th>2</th>\n",
              "      <td>3.141590</td>\n",
              "      <td>1</td>\n",
              "    </tr>\n",
              "    <tr>\n",
              "      <th>3</th>\n",
              "      <td>3.141590</td>\n",
              "      <td>1</td>\n",
              "    </tr>\n",
              "    <tr>\n",
              "      <th>4</th>\n",
              "      <td>3.141590</td>\n",
              "      <td>1</td>\n",
              "    </tr>\n",
              "  </tbody>\n",
              "</table>\n",
              "</div>"
            ],
            "text/plain": [
              "      theta  out\n",
              "0  0.000000    0\n",
              "1  0.000000    0\n",
              "2  0.000000    0\n",
              "3  0.000000    0\n",
              "4  0.000000    0\n",
              "0  0.785397    0\n",
              "1  0.785397    0\n",
              "2  0.785397    0\n",
              "3  0.785397    0\n",
              "4  0.785397    0\n",
              "0  1.570795    1\n",
              "1  1.570795    0\n",
              "2  1.570795    0\n",
              "3  1.570795    1\n",
              "4  1.570795    0\n",
              "0  2.356192    1\n",
              "1  2.356192    1\n",
              "2  2.356192    1\n",
              "3  2.356192    0\n",
              "4  2.356192    0\n",
              "0  3.141590    1\n",
              "1  3.141590    1\n",
              "2  3.141590    1\n",
              "3  3.141590    1\n",
              "4  3.141590    1"
            ]
          },
          "metadata": {
            "tags": []
          },
          "execution_count": 11
        }
      ]
    },
    {
      "cell_type": "markdown",
      "metadata": {
        "id": "wqaORMoKiAIW",
        "colab_type": "text"
      },
      "source": [
        "The result value being returned by `sim.sample` is a `pandas.DataFrame` object.\n",
        "Pandas is a common library for working with table data in python.\n",
        "You can use standard pandas methods to analyze and summarize your results."
      ]
    },
    {
      "cell_type": "code",
      "metadata": {
        "id": "bLzGV8nFiS9o",
        "colab_type": "code",
        "colab": {
          "base_uri": "https://localhost:8080/",
          "height": 296
        },
        "outputId": "febbdbdb-cf4d-439c-bc0f-2f91c6a431bb"
      },
      "source": [
        "import pandas\n",
        "\n",
        "big_results = sim.sample(\n",
        "    parameterized_circuit, \n",
        "    params=cirq.Linspace(theta, start=0, stop=3.14159, length=20), \n",
        "    repetitions=10_000)\n",
        "\n",
        "# big_results is too big to look at. Plot cross tabulated data instead.\n",
        "pandas.crosstab(big_results.theta, big_results.out).plot()"
      ],
      "execution_count": 12,
      "outputs": [
        {
          "output_type": "execute_result",
          "data": {
            "text/plain": [
              "<matplotlib.axes._subplots.AxesSubplot at 0x7f037753b668>"
            ]
          },
          "metadata": {
            "tags": []
          },
          "execution_count": 12
        },
        {
          "output_type": "display_data",
          "data": {
            "image/png": "[encoded data removed]",
            "text/plain": [
              "<Figure size 432x288 with 1 Axes>"
            ]
          },
          "metadata": {
            "tags": []
          }
        }
      ]
    },
    {
      "cell_type": "markdown",
      "metadata": {
        "id": "b2TkL28AmBSQ",
        "colab_type": "text"
      },
      "source": [
        "## 3. The built-in experiment\n",
        "\n",
        "Cirq comes with a pre-written Rabi oscillation experiment `cirq.experiments.rabi_oscillations`.\n",
        "This method takes a `cirq.Sampler`, which could be a simulator or a network connection to real hardware.\n",
        "The method takes a few more experimental parameters, and returns a result object\n",
        "that can be plotted."
      ]
    },
    {
      "cell_type": "code",
      "metadata": {
        "id": "ma0pVZwSThQx",
        "colab_type": "code",
        "colab": {
          "base_uri": "https://localhost:8080/",
          "height": 518
        },
        "outputId": "841f6e52-465d-4a6b-9d82-e9b0e7766227"
      },
      "source": [
        "import datetime\n",
        "\n",
        "result = cirq.experiments.rabi_oscillations(\n",
        "    sampler=noisy_sim,\n",
        "    qubit=my_qubit,\n",
        "    num_points=50,\n",
        "    repetitions=10000)\n",
        "result.plot()"
      ],
      "execution_count": 13,
      "outputs": [
        {
          "output_type": "execute_result",
          "data": {
            "text/plain": [
              "<matplotlib.axes._subplots.AxesSubplot at 0x7f03775827f0>"
            ]
          },
          "metadata": {
            "tags": []
          },
          "execution_count": 13
        },
        {
          "output_type": "display_data",
          "data": {
            "image/png": "[encoded data removed]",
            "text/plain": [
              "<Figure size 576x576 with 1 Axes>"
            ]
          },
          "metadata": {
            "tags": []
          }
        }
      ]
    },
    {
      "cell_type": "markdown",
      "metadata": {
        "id": "U-oezaJAnzJ8",
        "colab_type": "text"
      },
      "source": [
        "Notice that you can tell from the plot that you used the noisy simulator you defined earlier.\n",
        "You can also tell that the amount of depolarization is roughly 10%."
      ]
    },
    {
      "cell_type": "markdown",
      "metadata": {
        "id": "V6uE-yFxoT-3",
        "colab_type": "text"
      },
      "source": [
        "## 4. Exercise: Find the best qubit\n",
        "\n",
        "As you have seen, you can use Cirq to perform a Rabi oscillation experiment.\n",
        "You can either make the experiment yourself out of the basic pieces made available by Cirq, or use the prebuilt experiment method.\n",
        "\n",
        "Now you're going to put this knowledge to the test.\n",
        "\n",
        "There is some amount of depolarizing noise on each qubit.\n",
        "Your goal is to characterize every qubit from the Sycamore chip using a Rabi oscillation experiment, and find the qubit with the lowest noise according to the secret noise model."
      ]
    },
    {
      "cell_type": "code",
      "metadata": {
        "id": "-eISq1eqXYWx",
        "colab_type": "code",
        "colab": {}
      },
      "source": [
        "import hashlib\n",
        "\n",
        "class SecretNoiseModel(cirq.NoiseModel):\n",
        "    def noisy_operation(self, op):\n",
        "        # Hey! No peeking!\n",
        "        q = op.qubits[0]\n",
        "        v = hashlib.sha256(str(q).encode()).digest()[0] / 256\n",
        "        yield cirq.depolarize(v).on(q)\n",
        "        yield op\n",
        "\n",
        "secret_noise_sampler = cirq.DensityMatrixSimulator(noise=SecretNoiseModel())"
      ],
      "execution_count": 0,
      "outputs": []
    },
    {
      "cell_type": "markdown",
      "metadata": {
        "id": "rijcdXfFtaN0",
        "colab_type": "text"
      },
      "source": [
        ""
      ]
    },
    {
      "cell_type": "code",
      "metadata": {
        "id": "Rvf87Wqrp-lu",
        "colab_type": "code",
        "colab": {
          "base_uri": "https://localhost:8080/",
          "height": 535
        },
        "outputId": "922d7b8e-7084-4f44-a694-1bd63fafeb03"
      },
      "source": [
        "q = cirq.google.Sycamore.qubits[3]\n",
        "print('qubit', repr(q))\n",
        "cirq.experiments.rabi_oscillations(\n",
        "    sampler=secret_noise_sampler,\n",
        "    qubit=q\n",
        ").plot()"
      ],
      "execution_count": 15,
      "outputs": [
        {
          "output_type": "stream",
          "text": [
            "qubit cirq.GridQubit(1, 5)\n"
          ],
          "name": "stdout"
        },
        {
          "output_type": "execute_result",
          "data": {
            "text/plain": [
              "<matplotlib.axes._subplots.AxesSubplot at 0x7f0376fc5a20>"
            ]
          },
          "metadata": {
            "tags": []
          },
          "execution_count": 15
        },
        {
          "output_type": "display_data",
          "data": {
            "image/png": "[encoded data removed]",
            "text/plain": [
              "<Figure size 576x576 with 1 Axes>"
            ]
          },
          "metadata": {
            "tags": []
          }
        }
      ]
    },
    {
      "cell_type": "code",
      "metadata": {
        "id": "-P6bCx4dvM0z",
        "colab_type": "code",
        "colab": {}
      },
      "source": [
        ""
      ],
      "execution_count": 0,
      "outputs": []
    }
  ]
}
